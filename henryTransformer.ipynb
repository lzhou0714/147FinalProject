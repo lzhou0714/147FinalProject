{
 "cells": [
  {
   "cell_type": "markdown",
   "metadata": {},
   "source": [
    "## Using Tonmoy's notebook, we implement a transformer model for the EEG dataset classification"
   ]
  },
  {
   "attachments": {},
   "cell_type": "markdown",
   "metadata": {},
   "source": [
    "#### This notebook was inspired to Tonmoy with some attempts to tune by us"
   ]
  },
  {
   "cell_type": "markdown",
   "metadata": {},
   "source": [
    "## (i) Importing the necessary packages"
   ]
  },
  {
   "cell_type": "code",
   "execution_count": 15,
   "metadata": {},
   "outputs": [],
   "source": [
    "import numpy as np\n",
    "import pandas as pd\n",
    "import keras\n",
    "from keras import models\n",
    "from keras.models import Sequential\n",
    "import numpy as np\n",
    "import tensorflow as tf\n",
    "from tensorflow.keras import layers\n",
    "from keras.layers import Dense, Activation, Flatten,Dropout\n",
    "from keras.layers import Conv2D,LSTM,BatchNormalization,MaxPooling2D,Reshape\n",
    "from keras.layers import MultiHeadAttention, Permute, LayerNormalization, GlobalAveragePooling1D\n",
    "from tensorflow import keras\n",
    "import tensorflow_addons as tfa\n",
    "from keras.utils import to_categorical\n",
    "import matplotlib.pyplot as plt"
   ]
  },
  {
   "cell_type": "markdown",
   "metadata": {},
   "source": [
    "## (ii) Preprocessing the dataset and preparing the training, validation, and test datasets"
   ]
  },
  {
   "cell_type": "code",
   "execution_count": 16,
   "metadata": {},
   "outputs": [],
   "source": [
    "def data_prep(X,y,sub_sample,average,noise):\n",
    "    \n",
    "    total_X = None\n",
    "    total_y = None\n",
    "    # Trimming the data (sample,22,1000) -> (sample,22,500)\n",
    "    X = X[:,:,0:500]\n",
    "    print('Shape of X after trimming:',X.shape)\n",
    "    \n",
    "    # Maxpooling the data (sample,22,1000) -> (sample,22,500/sub_sample)\n",
    "    X_max = np.max(X.reshape(X.shape[0], X.shape[1], -1, sub_sample), axis=3)\n",
    "    \n",
    "    \n",
    "    total_X = X_max\n",
    "    total_y = y\n",
    "    print('Shape of X after maxpooling:',total_X.shape)\n",
    "    \n",
    "    # Averaging + noise \n",
    "    X_average = np.mean(X.reshape(X.shape[0], X.shape[1], -1, average),axis=3)\n",
    "    X_average = X_average + np.random.normal(0.0, 0.5, X_average.shape)\n",
    "    \n",
    "    total_X = np.vstack((total_X, X_average))\n",
    "    total_y = np.hstack((total_y, y))\n",
    "    print('Shape of X after averaging+noise and concatenating:',total_X.shape)\n",
    "    \n",
    "    # Subsampling\n",
    "    \n",
    "    for i in range(sub_sample):\n",
    "        \n",
    "        X_subsample = X[:, :, i::sub_sample] + \\\n",
    "                            (np.random.normal(0.0, 0.5, X[:, :,i::sub_sample].shape) if noise else 0.0)\n",
    "            \n",
    "        total_X = np.vstack((total_X, X_subsample))\n",
    "        total_y = np.hstack((total_y, y))\n",
    "        \n",
    "    \n",
    "    print('Shape of X after subsampling and concatenating:',total_X.shape)\n",
    "    return total_X,total_y\n",
    "\n"
   ]
  },
  {
   "cell_type": "code",
   "execution_count": 17,
   "metadata": {},
   "outputs": [
    {
     "name": "stdout",
     "output_type": "stream",
     "text": [
      "Shape of X after trimming: (1740, 22, 500)\n",
      "Shape of X after maxpooling: (1740, 22, 250)\n",
      "Shape of X after averaging+noise and concatenating: (3480, 22, 250)\n",
      "Shape of X after subsampling and concatenating: (6960, 22, 250)\n",
      "Shape of X after trimming: (375, 22, 500)\n",
      "Shape of X after maxpooling: (375, 22, 250)\n",
      "Shape of X after averaging+noise and concatenating: (750, 22, 250)\n",
      "Shape of X after subsampling and concatenating: (1500, 22, 250)\n",
      "Shape of X after trimming: (443, 22, 500)\n",
      "Shape of X after maxpooling: (443, 22, 250)\n",
      "Shape of X after averaging+noise and concatenating: (886, 22, 250)\n",
      "Shape of X after subsampling and concatenating: (1772, 22, 250)\n",
      "Shape of training set: (6960, 22, 250)\n",
      "Shape of validation set: (1500, 22, 250)\n",
      "Shape of training labels: (6960,)\n",
      "Shape of validation labels: (1500,)\n",
      "Shape of testing set: (1772, 22, 250)\n",
      "Shape of testing labels: (1772,)\n",
      "Shape of training labels after categorical conversion: (6960, 4)\n",
      "Shape of validation labels after categorical conversion: (1500, 4)\n",
      "Shape of test labels after categorical conversion: (1772, 4)\n",
      "Shape of training set after adding width info: (6960, 22, 250, 1)\n",
      "Shape of validation set after adding width info: (1500, 22, 250, 1)\n",
      "Shape of test set after adding width info: (1772, 22, 250, 1)\n",
      "Shape of training set after dimension reshaping: (6960, 250, 1, 22)\n",
      "Shape of validation set after dimension reshaping: (1500, 250, 1, 22)\n",
      "Shape of test set after dimension reshaping: (1772, 250, 1, 22)\n"
     ]
    }
   ],
   "source": [
    "## Loading the dataset\n",
    "\n",
    "\n",
    "X_test = np.load(\"X_test.npy\")\n",
    "y_test = np.load(\"y_test.npy\")\n",
    "person_train_valid = np.load(\"person_train_valid.npy\")\n",
    "X_train_valid = np.load(\"X_train_valid.npy\")\n",
    "y_train_valid = np.load(\"y_train_valid.npy\")\n",
    "person_test = np.load(\"person_test.npy\")\n",
    "\n",
    "## Adjusting the labels so that \n",
    "\n",
    "# Cue onset left - 0\n",
    "# Cue onset right - 1\n",
    "# Cue onset foot - 2\n",
    "# Cue onset tongue - 3\n",
    "\n",
    "y_train_valid -= 769\n",
    "y_test -= 769\n",
    "\n",
    "\n",
    "## Random splitting and reshaping the data\n",
    "# First generating the training and validation indices using random splitting\n",
    "\n",
    "ind_valid = np.random.choice(2115, 375, replace=False)\n",
    "ind_train = np.array(list(set(range(2115)).difference(set(ind_valid))))\n",
    "\n",
    "# Creating the training and validation sets using the generated indices\n",
    "(X_train, X_valid) = X_train_valid[ind_train], X_train_valid[ind_valid] \n",
    "(y_train, y_valid) = y_train_valid[ind_train], y_train_valid[ind_valid]\n",
    "\n",
    "\n",
    "## Preprocessing the dataset\n",
    "x_train,y_train = data_prep(X_train,y_train,2,2,True)\n",
    "x_valid,y_valid = data_prep(X_valid,y_valid,2,2,True)\n",
    "X_test_prep,y_test_prep = data_prep(X_test,y_test,2,2,True)\n",
    "\n",
    "\n",
    "print('Shape of training set:',x_train.shape)\n",
    "print('Shape of validation set:',x_valid.shape)\n",
    "print('Shape of training labels:',y_train.shape)\n",
    "print('Shape of validation labels:',y_valid.shape)\n",
    "print('Shape of testing set:',X_test_prep.shape)\n",
    "print('Shape of testing labels:',y_test_prep.shape)\n",
    "\n",
    "\n",
    "# Converting the labels to categorical variables for multiclass classification\n",
    "y_train = to_categorical(y_train, 4)\n",
    "y_valid = to_categorical(y_valid, 4)\n",
    "y_test = to_categorical(y_test_prep, 4)\n",
    "print('Shape of training labels after categorical conversion:',y_train.shape)\n",
    "print('Shape of validation labels after categorical conversion:',y_valid.shape)\n",
    "print('Shape of test labels after categorical conversion:',y_test.shape)\n",
    "\n",
    "# Adding width of the segment to be 1\n",
    "x_train = x_train.reshape(x_train.shape[0], x_train.shape[1], x_train.shape[2], 1)\n",
    "x_valid = x_valid.reshape(x_valid.shape[0], x_valid.shape[1], x_train.shape[2], 1)\n",
    "x_test = X_test_prep.reshape(X_test_prep.shape[0], X_test_prep.shape[1], X_test_prep.shape[2], 1)\n",
    "print('Shape of training set after adding width info:',x_train.shape)\n",
    "print('Shape of validation set after adding width info:',x_valid.shape)\n",
    "print('Shape of test set after adding width info:',x_test.shape)\n",
    "\n",
    "\n",
    "# Reshaping the training and validation dataset\n",
    "x_train = np.swapaxes(x_train, 1,3)\n",
    "x_train = np.swapaxes(x_train, 1,2)\n",
    "x_valid = np.swapaxes(x_valid, 1,3)\n",
    "x_valid = np.swapaxes(x_valid, 1,2)\n",
    "x_test = np.swapaxes(x_test, 1,3)\n",
    "x_test = np.swapaxes(x_test, 1,2)\n",
    "print('Shape of training set after dimension reshaping:',x_train.shape)\n",
    "print('Shape of validation set after dimension reshaping:',x_valid.shape)\n",
    "print('Shape of test set after dimension reshaping:',x_test.shape)\n",
    "\n",
    "keras.backend.clear_session()\n"
   ]
  },
  {
   "attachments": {},
   "cell_type": "markdown",
   "metadata": {},
   "source": [
    "## CNN Transformer Model"
   ]
  },
  {
   "cell_type": "code",
   "execution_count": 18,
   "metadata": {},
   "outputs": [],
   "source": [
    "from tensorflow.keras import regularizers\n",
    "\n",
    "def build_model(num_heads=2, input_shape=(250, 1, 22), num_classes=4):\n",
    "    inputs = keras.Input(shape=input_shape)\n",
    "\n",
    "    # conv layer 1\n",
    "    x = Conv2D(filters=20, kernel_size=(10,1), padding='same', activation='relu', input_shape=(250,1,22))(inputs)\n",
    "    x = MaxPooling2D(pool_size=(2,1), padding='same')(x)\n",
    "    x = BatchNormalization()(x)\n",
    "    x = Dropout(0.4)(x)\n",
    "\n",
    "    # conv layer 2\n",
    "    x = Conv2D(filters=40, kernel_size=(10,1), padding='same', activation='relu')(x)\n",
    "    x = MaxPooling2D(pool_size=(2,1), padding='same')(x)\n",
    "    x = BatchNormalization()(x)\n",
    "    x = Dropout(0.4)(x)\n",
    "\n",
    "    # conv layer 3\n",
    "    x = Conv2D(filters=80, kernel_size=(10,1), padding='same', activation='relu')(x)\n",
    "    x = MaxPooling2D(pool_size=(2,1), padding='same')(x)\n",
    "    x = BatchNormalization()(x)\n",
    "    x = Dropout(0.4)(x)\n",
    "\n",
    "    # conv layer 4\n",
    "    x = Conv2D(filters=160, kernel_size=(10,1), padding='same', activation='relu')(x)\n",
    "    x = MaxPooling2D(pool_size=(2,1), padding='same')(x)\n",
    "    x = BatchNormalization()(x)\n",
    "    x = Dropout(0.4)(x)\n",
    "\n",
    "    # transformer layer 1\n",
    "    # encoding\n",
    "    d_model = x.shape[-1]\n",
    "    x = Reshape((-1, d_model))(x)\n",
    "    x = Permute((2, 1))(x)\n",
    "    x = MultiHeadAttention(num_heads=num_heads, key_dim=d_model)(x, x)\n",
    "    x = LayerNormalization()(x)\n",
    "\n",
    "    # global average pooling\n",
    "    x = GlobalAveragePooling1D()(x)\n",
    "\n",
    "    x = Dense(num_classes, activation='softmax')(x)\n",
    "\n",
    "    model = models.Model(inputs=inputs, outputs=x)\n",
    "\n",
    "    return model\n",
    "\n"
   ]
  },
  {
   "attachments": {},
   "cell_type": "markdown",
   "metadata": {},
   "source": [
    "## Hyperparameters"
   ]
  },
  {
   "cell_type": "code",
   "execution_count": 19,
   "metadata": {},
   "outputs": [
    {
     "name": "stderr",
     "output_type": "stream",
     "text": [
      "WARNING:absl:`lr` is deprecated, please use `learning_rate` instead, or use the legacy optimizer, e.g.,tf.keras.optimizers.legacy.Adam.\n"
     ]
    }
   ],
   "source": [
    "# Model parameters\n",
    "learning_rate = 2e-3\n",
    "epochs = 50\n",
    "cnn_transformer_optimizer = keras.optimizers.Adam(lr=learning_rate)"
   ]
  },
  {
   "cell_type": "markdown",
   "metadata": {},
   "source": [
    "## (v)(CNN-LSTM) Compiling, training and validating the model"
   ]
  },
  {
   "cell_type": "code",
   "execution_count": 20,
   "metadata": {},
   "outputs": [
    {
     "name": "stdout",
     "output_type": "stream",
     "text": [
      "Epoch 1/50\n",
      "218/218 [==============================] - 14s 56ms/step - loss: 1.3022 - accuracy: 0.3934 - val_loss: 1.3191 - val_accuracy: 0.3533\n",
      "Epoch 2/50\n",
      "218/218 [==============================] - 12s 54ms/step - loss: 1.1776 - accuracy: 0.4611 - val_loss: 1.2906 - val_accuracy: 0.3920\n",
      "Epoch 3/50\n",
      "218/218 [==============================] - 12s 55ms/step - loss: 1.1222 - accuracy: 0.4978 - val_loss: 1.2312 - val_accuracy: 0.4413\n",
      "Epoch 4/50\n",
      "218/218 [==============================] - 12s 55ms/step - loss: 1.0645 - accuracy: 0.5405 - val_loss: 1.2682 - val_accuracy: 0.4367\n",
      "Epoch 5/50\n",
      "218/218 [==============================] - 12s 56ms/step - loss: 1.0210 - accuracy: 0.5670 - val_loss: 1.1890 - val_accuracy: 0.4933\n",
      "Epoch 6/50\n",
      "218/218 [==============================] - 12s 54ms/step - loss: 0.9664 - accuracy: 0.5997 - val_loss: 1.2167 - val_accuracy: 0.4953\n",
      "Epoch 7/50\n",
      "218/218 [==============================] - 12s 53ms/step - loss: 0.9207 - accuracy: 0.6228 - val_loss: 1.1620 - val_accuracy: 0.5293\n",
      "Epoch 8/50\n",
      "218/218 [==============================] - 12s 53ms/step - loss: 0.8683 - accuracy: 0.6474 - val_loss: 1.1937 - val_accuracy: 0.5080\n",
      "Epoch 9/50\n",
      "218/218 [==============================] - 12s 54ms/step - loss: 0.8343 - accuracy: 0.6645 - val_loss: 1.1404 - val_accuracy: 0.5407\n",
      "Epoch 10/50\n",
      "218/218 [==============================] - 12s 56ms/step - loss: 0.7931 - accuracy: 0.6861 - val_loss: 1.1848 - val_accuracy: 0.5513\n",
      "Epoch 11/50\n",
      "218/218 [==============================] - 12s 55ms/step - loss: 0.7666 - accuracy: 0.6996 - val_loss: 1.1625 - val_accuracy: 0.5460\n",
      "Epoch 12/50\n",
      "218/218 [==============================] - 12s 56ms/step - loss: 0.7428 - accuracy: 0.7096 - val_loss: 1.1295 - val_accuracy: 0.5633\n",
      "Epoch 13/50\n",
      "218/218 [==============================] - 12s 55ms/step - loss: 0.7148 - accuracy: 0.7240 - val_loss: 1.1169 - val_accuracy: 0.5787\n",
      "Epoch 14/50\n",
      "218/218 [==============================] - 12s 54ms/step - loss: 0.6946 - accuracy: 0.7315 - val_loss: 1.2117 - val_accuracy: 0.5660\n",
      "Epoch 15/50\n",
      "218/218 [==============================] - 12s 56ms/step - loss: 0.6670 - accuracy: 0.7431 - val_loss: 1.1593 - val_accuracy: 0.5733\n",
      "Epoch 16/50\n",
      "218/218 [==============================] - 12s 54ms/step - loss: 0.6483 - accuracy: 0.7491 - val_loss: 1.2239 - val_accuracy: 0.5593\n",
      "Epoch 17/50\n",
      "218/218 [==============================] - 12s 55ms/step - loss: 0.6258 - accuracy: 0.7609 - val_loss: 1.2671 - val_accuracy: 0.5507\n",
      "Epoch 18/50\n",
      "218/218 [==============================] - 12s 55ms/step - loss: 0.5895 - accuracy: 0.7730 - val_loss: 1.1948 - val_accuracy: 0.5647\n",
      "Epoch 19/50\n",
      "218/218 [==============================] - 12s 54ms/step - loss: 0.5832 - accuracy: 0.7820 - val_loss: 1.2353 - val_accuracy: 0.5673\n",
      "Epoch 20/50\n",
      "218/218 [==============================] - 12s 57ms/step - loss: 0.5645 - accuracy: 0.7820 - val_loss: 1.1781 - val_accuracy: 0.5847\n",
      "Epoch 21/50\n",
      "218/218 [==============================] - 13s 59ms/step - loss: 0.5331 - accuracy: 0.7918 - val_loss: 1.2380 - val_accuracy: 0.5720\n",
      "Epoch 22/50\n",
      "218/218 [==============================] - 12s 55ms/step - loss: 0.5343 - accuracy: 0.8007 - val_loss: 1.2996 - val_accuracy: 0.5780\n",
      "Epoch 23/50\n",
      "218/218 [==============================] - 12s 56ms/step - loss: 0.5235 - accuracy: 0.8024 - val_loss: 1.2238 - val_accuracy: 0.5893\n"
     ]
    }
   ],
   "source": [
    "# Compiling the model\n",
    "keras.backend.clear_session()\n",
    "\n",
    "# Training and validating the model\n",
    "\n",
    "batch_sizes = [32,64,128]\n",
    "import matplotlib.pyplot as plt\n",
    "\n",
    "hybrid_cnn_transformer_model = build_model()\n",
    "# Compiling the model\n",
    "hybrid_cnn_transformer_model.compile(loss='categorical_crossentropy',\n",
    "               optimizer=cnn_transformer_optimizer,\n",
    "               metrics=['accuracy'])\n",
    "\n",
    "# Training and validating the model\n",
    "\n",
    "callback = keras.callbacks.EarlyStopping(monitor='val_loss', patience=10) # stops if not improving after 10 epochs\n",
    "hybrid_cnn_transformer_model_results = hybrid_cnn_transformer_model.fit(x_train,\n",
    "                y_train,\n",
    "                batch_size=32,\n",
    "                epochs=epochs,\n",
    "                validation_data=(x_valid, y_valid), \n",
    "                verbose=True,\n",
    "                callbacks = [callback])"
   ]
  },
  {
   "attachments": {},
   "cell_type": "markdown",
   "metadata": {},
   "source": [
    "## CNN Transformer: Visualizing the accuracy and loss trajectory"
   ]
  },
  {
   "cell_type": "code",
   "execution_count": 21,
   "metadata": {},
   "outputs": [
    {
     "name": "stdout",
     "output_type": "stream",
     "text": [
      "0.5893333554267883\n"
     ]
    },
    {
     "data": {
      "image/png": "[encoded data removed]",
      "text/plain": [
       "<Figure size 640x480 with 1 Axes>"
      ]
     },
     "metadata": {},
     "output_type": "display_data"
    },
    {
     "data": {
      "image/png": "[encoded data removed]",
      "text/plain": [
       "<Figure size 640x480 with 1 Axes>"
      ]
     },
     "metadata": {},
     "output_type": "display_data"
    }
   ],
   "source": [
    "import matplotlib.pyplot as plt\n",
    "\n",
    "print( hybrid_cnn_transformer_model_results.history['val_accuracy'][-1])\n",
    "# Plotting accuracy trajectory\n",
    "plt.plot(hybrid_cnn_transformer_model_results.history['accuracy'])\n",
    "plt.plot(hybrid_cnn_transformer_model_results.history['val_accuracy'])\n",
    "plt.title('Hybrid CNN-LSTM model accuracy trajectory')\n",
    "plt.ylabel('accuracy')\n",
    "plt.xlabel('epoch')\n",
    "plt.legend(['train', 'val'], loc='upper left')\n",
    "plt.show()\n",
    "\n",
    "# Plotting loss trajectory\n",
    "plt.plot(hybrid_cnn_transformer_model_results.history['loss'],'o')\n",
    "plt.plot(hybrid_cnn_transformer_model_results.history['val_loss'],'o')\n",
    "plt.title('Hybrid CNN-LSTM model loss trajectory')\n",
    "plt.ylabel('loss')\n",
    "plt.xlabel('epoch')\n",
    "plt.legend(['train', 'val'], loc='upper left')\n",
    "plt.show()"
   ]
  },
  {
   "cell_type": "markdown",
   "metadata": {},
   "source": [
    "## (vii)(CNN-LSTM) Testing the performance of the hybrid CNN-LSTM model on the held out test set"
   ]
  },
  {
   "cell_type": "code",
   "execution_count": 22,
   "metadata": {},
   "outputs": [
    {
     "name": "stdout",
     "output_type": "stream",
     "text": [
      "Test accuracy of the CNN Transformer model: 0.5790067911148071\n"
     ]
    }
   ],
   "source": [
    "## Testing the hybrid CNN-LSTM model\n",
    "\n",
    "hybrid_cnn_transformer_score = hybrid_cnn_transformer_model.evaluate(x_test, y_test, verbose=0)\n",
    "print('Test accuracy of the CNN Transformer model:',hybrid_cnn_transformer_score[1])"
   ]
  },
  {
   "cell_type": "code",
   "execution_count": null,
   "metadata": {},
   "outputs": [],
   "source": []
  }
 ],
 "metadata": {
  "kernelspec": {
   "display_name": "Python 3 (ipykernel)",
   "language": "python",
   "name": "python3"
  },
  "language_info": {
   "codemirror_mode": {
    "name": "ipython",
    "version": 3
   },
   "file_extension": ".py",
   "mimetype": "text/x-python",
   "name": "python",
   "nbconvert_exporter": "python",
   "pygments_lexer": "ipython3",
   "version": "3.9.16"
  }
 },
 "nbformat": 4,
 "nbformat_minor": 2
}
